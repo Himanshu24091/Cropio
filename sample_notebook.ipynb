{
  "cells": [
    {
      "cell_type": "markdown",
      "metadata": {},
      "source": [
        "# Sample Notebook for Testing\n",
        "\n",
        "This is a sample Jupyter notebook to test the conversion functionality.\n",
        "\n",
        "## Introduction\n",
        "\n",
        "This notebook contains:\n",
        "- **Markdown cells** with formatted text\n",
        "- **Code cells** with Python code\n",
        "- **Output cells** showing results"
      ]
    },
    {
      "cell_type": "code",
      "execution_count": 1,
      "metadata": {},
      "outputs": [
        {
          "name": "stdout",
          "output_type": "stream",
          "text": [
            "Hello, World!\n",
            "Python version: 3.11.0\n"
          ]
        }
      ],
      "source": [
        "import sys\n",
        "print(\"Hello, World!\")\n",
        "print(f\"Python version: {sys.version.split()[0]}\")"
      ]
    },
    {
      "cell_type": "markdown",
      "metadata": {},
      "source": [
        "## Mathematical Operations\n",
        "\n",
        "Let's perform some basic calculations:"
      ]
    },
    {
      "cell_type": "code",
      "execution_count": 2,
      "metadata": {},
      "outputs": [
        {
          "name": "stdout",
          "output_type": "stream",
          "text": [
            "Sum: 15\n",
            "Product: 50\n",
            "Division: 2.0\n"
          ]
        }
      ],
      "source": [
        "a = 5\n",
        "b = 10\n",
        "\n",
        "print(f\"Sum: {a + b}\")\n",
        "print(f\"Product: {a * b}\")\n",
        "print(f\"Division: {b / a}\")"
      ]
    },
    {
      "cell_type": "markdown",
      "metadata": {},
      "source": [
        "## List Operations\n",
        "\n",
        "Working with Python lists:"
      ]
    },
    {
      "cell_type": "code",
      "execution_count": 3,
      "metadata": {},
      "outputs": [
        {
          "name": "stdout",
          "output_type": "stream",
          "text": [
            "Original list: [1, 2, 3, 4, 5]\n",
            "Squared list: [1, 4, 9, 16, 25]\n",
            "Sum of squares: 55\n"
          ]
        }
      ],
      "source": [
        "numbers = [1, 2, 3, 4, 5]\n",
        "print(f\"Original list: {numbers}\")\n",
        "\n",
        "squared = [x**2 for x in numbers]\n",
        "print(f\"Squared list: {squared}\")\n",
        "\n",
        "total = sum(squared)\n",
        "print(f\"Sum of squares: {total}\")"
      ]
    },
    {
      "cell_type": "markdown",
      "metadata": {},
      "source": [
        "## Conclusion\n",
        "\n",
        "This notebook demonstrates basic Python operations and can be used to test various conversion formats:\n",
        "\n",
        "1. **PDF** - For printable documents\n",
        "2. **HTML** - For web viewing\n",
        "3. **DOCX** - For Word document editing\n",
        "4. **Markdown** - For documentation\n",
        "\n",
        "All conversions should preserve the formatting and outputs shown above."
      ]
    }
  ],
  "metadata": {
    "kernelspec": {
      "display_name": "Python 3",
      "language": "python",
      "name": "python3"
    },
    "language_info": {
      "codemirror_mode": {
        "name": "ipython",
        "version": 3
      },
      "file_extension": ".py",
      "mimetype": "text/x-python",
      "name": "python",
      "nbconvert_exporter": "python",
      "pygments_lexer": "ipython3",
      "version": "3.11.0"
    }
  },
  "nbformat": 4,
  "nbformat_minor": 4
}